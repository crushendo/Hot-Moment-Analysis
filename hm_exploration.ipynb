{
 "cells": [
  {
   "cell_type": "code",
   "execution_count": 3,
   "metadata": {
    "collapsed": true
   },
   "outputs": [],
   "source": [
    "import numpy as np\n",
    "import matplotlib.pyplot as plt\n",
    "import pandas as pd\n",
    "import mysql.connector\n"
   ]
  },
  {
   "cell_type": "code",
   "execution_count": 4,
   "outputs": [
    {
     "name": "stderr",
     "output_type": "stream",
     "text": [
      "/home/ryan/.virtualenv/time/lib/python3.8/site-packages/pandas/io/sql.py:761: UserWarning: pandas only support SQLAlchemy connectable(engine/connection) ordatabase string URI or sqlite3 DBAPI2 connectionother DBAPI2 objects are not tested, please consider using SQLAlchemy\n",
      "  warnings.warn(\n"
     ]
    }
   ],
   "source": [
    "# Connect to mysql database\n",
    "cnx = mysql.connector.connect(user='root', password='Kh18riku!',\n",
    "                                host='127.0.0.1',\n",
    "                                database='global_n2o')\n",
    "cursor = cnx.cursor()\n",
    "\n",
    "query = (\"SELECT * FROM ClassificationModel\")\n",
    "# Execute the query and fetch all results\n",
    "alldata = pd.read_sql(query, cnx)\n",
    "cnx.close()"
   ],
   "metadata": {
    "collapsed": false
   }
  },
  {
   "cell_type": "code",
   "execution_count": 14,
   "outputs": [],
   "source": [
    "# Get a list of all the RepIDs that occur in the data at least 350 times\n",
    "RepIDs = alldata['RepID'].value_counts()\n",
    "RepIDs = RepIDs[RepIDs > 350]\n",
    "RepIDs = RepIDs.index.tolist()\n",
    "\n",
    "# Drop all rows that do not have a RepID in the list\n",
    "alldata = alldata[alldata['RepID'].isin(RepIDs)]"
   ],
   "metadata": {
    "collapsed": false
   }
  },
  {
   "cell_type": "code",
   "execution_count": 15,
   "outputs": [
    {
     "name": "stdout",
     "output_type": "stream",
     "text": [
      "0    0.749785\n",
      "1    0.250215\n",
      "Name: MCDHM5, dtype: float64\n",
      "0    0.89093\n",
      "1    0.10907\n",
      "Name: IQRHM, dtype: float64\n"
     ]
    }
   ],
   "source": [
    "# Get the number of rows where MCDHM5 is equal to 1\n",
    "mcdhm = alldata['MCDHM5'].value_counts(1)\n",
    "print(mcdhm)\n",
    "\n",
    "iqrhm = alldata['IQRHM'].value_counts(1)\n",
    "print(iqrhm)"
   ],
   "metadata": {
    "collapsed": false
   }
  },
  {
   "cell_type": "code",
   "execution_count": 19,
   "outputs": [
    {
     "name": "stdout",
     "output_type": "stream",
     "text": [
      "HCD Hot moment flux proportion: 0.7004683701789572\n",
      "IQR Hot moment flux proportion: 0.5662645298859871\n"
     ]
    }
   ],
   "source": [
    "# Get the sum of all N2OFlux where MCDHM5 is equal to 1\n",
    "mcdhm_flux = alldata[alldata['MCDHM5'] == str(1)]\n",
    "mcdhm_flux = mcdhm_flux['N2OFlux'].sum()\n",
    "\n",
    "iqrhm_flux = alldata[alldata['IQRHM'] == 1]\n",
    "iqrhm_flux = iqrhm_flux['N2OFlux'].sum()\n",
    "\n",
    "total_flux = alldata['N2OFlux'].sum()\n",
    "print(\"HCD Hot moment flux proportion: \" + str(mcdhm_flux/total_flux))\n",
    "print(\"IQR Hot moment flux proportion: \" + str(iqrhm_flux/total_flux))"
   ],
   "metadata": {
    "collapsed": false
   }
  },
  {
   "cell_type": "code",
   "execution_count": 17,
   "outputs": [
    {
     "name": "stdout",
     "output_type": "stream",
     "text": [
      "     RepID  IQRHM MCDHM MCDHM5        Date  DOY  N2OFlux  VWC  WFPS    SoilT  \\\n",
      "298      4      0     1      1  2010-05-29  149  21.5044  NaN   NaN   7.8243   \n",
      "299      4      1     1      1  2010-05-30  150  73.5390  NaN   NaN   7.8243   \n",
      "300      4      1     1      1  2010-05-31  151  73.5390  NaN   NaN  15.6487   \n",
      "301      4      0     1      1  2010-06-01  152  14.6450  NaN   NaN  18.9469   \n",
      "302      4      0     1      1  2010-06-02  153  14.6450  NaN   NaN  17.3050   \n",
      "\n",
      "     ...  NitrogenForm  AirTMax  AirTMin Sand  Silt  Clay  pH  PrimaryCrop  \\\n",
      "298  ...          None      NaN      NaN  NaN   NaN  10.0 NaN       Poplar   \n",
      "299  ...          None      NaN      NaN  NaN   NaN  10.0 NaN       Poplar   \n",
      "300  ...          None      NaN      NaN  NaN   NaN  10.0 NaN       Poplar   \n",
      "301  ...          None      NaN      NaN  NaN   NaN  10.0 NaN       Poplar   \n",
      "302  ...          None      NaN      NaN  NaN   NaN  10.0 NaN       Poplar   \n",
      "\n",
      "     Management  Tillage  \n",
      "298  Zero Input           \n",
      "299  Zero Input           \n",
      "300  Zero Input           \n",
      "301  Zero Input           \n",
      "302  Zero Input           \n",
      "\n",
      "[5 rows x 23 columns]\n"
     ]
    }
   ],
   "source": [
    "print(alldata.head())"
   ],
   "metadata": {
    "collapsed": false
   }
  },
  {
   "cell_type": "code",
   "execution_count": null,
   "outputs": [],
   "source": [],
   "metadata": {
    "collapsed": false
   }
  }
 ],
 "metadata": {
  "kernelspec": {
   "name": "python3",
   "language": "python",
   "display_name": "Python 3 (ipykernel)"
  },
  "language_info": {
   "codemirror_mode": {
    "name": "ipython",
    "version": 2
   },
   "file_extension": ".py",
   "mimetype": "text/x-python",
   "name": "python",
   "nbconvert_exporter": "python",
   "pygments_lexer": "ipython2",
   "version": "2.7.6"
  }
 },
 "nbformat": 4,
 "nbformat_minor": 0
}
