{
 "cells": [
  {
   "cell_type": "code",
   "execution_count": 86,
   "id": "84b2e6b0",
   "metadata": {},
   "outputs": [],
   "source": [
    "from pyod.models.knn import KNN\n",
    "from pyod.models.lof import LOF\n",
    "from pyod.models.mcd import MCD\n",
    "from pyod.models.iforest import IForest\n",
    "from pyod.models.pca import PCA\n",
    "from pyod.models.abod import ABOD\n",
    "import pandas as pd\n",
    "import numpy as np\n",
    "import matplotlib.pyplot as plt"
   ]
  },
  {
   "cell_type": "code",
   "execution_count": null,
   "outputs": [],
   "source": [
    "alldata = pd.read_csv('classification_data_ts_truthing_subset.csv')\n",
    "# Drop rows with missing values in HMTruth\n",
    "alldata = alldata.dropna(subset=['HMTruth'])"
   ],
   "metadata": {
    "collapsed": false
   }
  },
  {
   "cell_type": "code",
   "execution_count": null,
   "outputs": [],
   "source": [
    "# Add columns for each of the outlier detection methods\n",
    "alldata['LOF'] = None\n",
    "alldata['KNN'] = None\n",
    "alldata['MCD'] = None\n",
    "alldata['IForest'] = None\n",
    "alldata['PCA'] = None\n",
    "alldata['ABOD'] = None\n",
    "alldata['LOF_scores'] = None\n",
    "alldata['KNN_scores'] = None\n",
    "alldata['MCD_scores'] = None\n",
    "alldata['IForest_scores'] = None\n",
    "alldata['PCA_scores'] = None\n",
    "alldata['ABOD_scores'] = None"
   ],
   "metadata": {
    "collapsed": false
   }
  },
  {
   "cell_type": "code",
   "execution_count": null,
   "outputs": [],
   "source": [
    "# Suppress warnings\n",
    "import warnings\n",
    "warnings.filterwarnings('ignore')\n",
    "# Iterate through datasets by RepID, apply various outlier detection methods using pyod, and save results to a new dataframe\n",
    "rep_ids = alldata['RepID'].unique()\n",
    "for rep_id in rep_ids:\n",
    "    flux = alldata[alldata['RepID'] == rep_id][['N2OFlux']]\n",
    "\n",
    "    # Add column to flux dataframe counting upward from 0\n",
    "    flux['index'] = np.arange(len(flux))\n",
    "\n",
    "    # LOF\n",
    "    lof = LOF(contamination=0.25)\n",
    "    lof.fit(flux)\n",
    "    lof_pred = lof.predict(flux)\n",
    "    lof_scores = lof.decision_scores_\n",
    "\n",
    "    # KNN\n",
    "    knn = KNN(contamination=0.25)\n",
    "    knn.fit(flux)\n",
    "    knn_pred = knn.predict(flux)\n",
    "    knn_scores = knn.decision_scores_\n",
    "\n",
    "    # MCD\n",
    "    mcd = MCD(contamination=0.25)\n",
    "    mcd.fit(flux)\n",
    "    mcd_pred = mcd.predict(flux)\n",
    "    mcd_scores = mcd.decision_scores_\n",
    "\n",
    "    # IForest\n",
    "    iforest = IForest(contamination=0.25)\n",
    "    iforest.fit(flux)\n",
    "    iforest_pred = iforest.predict(flux)\n",
    "    iforest_scores = iforest.decision_scores_\n",
    "\n",
    "    # PCA\n",
    "    pca = PCA(contamination=0.25)\n",
    "    pca.fit(flux)\n",
    "    pca_pred = pca.predict(flux)\n",
    "    pca_scores = pca.decision_scores_\n",
    "\n",
    "    # ABOD\n",
    "    abod = ABOD(contamination=0.25)\n",
    "    abod.fit(flux)\n",
    "    abod_pred = abod.predict(flux)\n",
    "    abod_scores = abod.decision_scores_\n",
    "\n",
    "    # Add results lists to dataframe\n",
    "    alldata.loc[alldata['RepID'] == rep_id, 'LOF'] = lof_pred\n",
    "    alldata.loc[alldata['RepID'] == rep_id, 'KNN'] = knn_pred\n",
    "    alldata.loc[alldata['RepID'] == rep_id, 'MCD'] = mcd_pred\n",
    "    alldata.loc[alldata['RepID'] == rep_id, 'IForest'] = iforest_pred\n",
    "    alldata.loc[alldata['RepID'] == rep_id, 'PCA'] = pca_pred\n",
    "    alldata.loc[alldata['RepID'] == rep_id, 'ABOD'] = abod_pred\n",
    "    alldata.loc[alldata['RepID'] == rep_id, 'LOF_scores'] = lof_scores\n",
    "    alldata.loc[alldata['RepID'] == rep_id, 'KNN_scores'] = knn_scores\n",
    "    alldata.loc[alldata['RepID'] == rep_id, 'MCD_scores'] = mcd_scores\n",
    "    alldata.loc[alldata['RepID'] == rep_id, 'IForest_scores'] = iforest_scores\n",
    "    alldata.loc[alldata['RepID'] == rep_id, 'PCA_scores'] = pca_scores\n",
    "    alldata.loc[alldata['RepID'] == rep_id, 'ABOD_scores'] = abod_scores\n",
    "\n",
    "    # Get median of flux\n",
    "    median = np.median(flux['N2OFlux'])\n",
    "    # Where RepID = rep_id and N2OFlux <= median, set each of the outlier detection methods to 0\n",
    "    alldata.loc[(alldata['RepID'] == rep_id) & (alldata['N2OFlux'] <= median), 'LOF'] = 0\n",
    "    alldata.loc[(alldata['RepID'] == rep_id) & (alldata['N2OFlux'] <= median), 'KNN'] = 0\n",
    "    alldata.loc[(alldata['RepID'] == rep_id) & (alldata['N2OFlux'] <= median), 'MCD'] = 0\n",
    "    alldata.loc[(alldata['RepID'] == rep_id) & (alldata['N2OFlux'] <= median), 'IForest'] = 0\n",
    "    alldata.loc[(alldata['RepID'] == rep_id) & (alldata['N2OFlux'] <= median), 'PCA'] = 0\n",
    "    alldata.loc[(alldata['RepID'] == rep_id) & (alldata['N2OFlux'] <= median), 'ABOD'] = 0\n"
   ],
   "metadata": {
    "collapsed": false
   }
  },
  {
   "cell_type": "code",
   "execution_count": null,
   "outputs": [],
   "source": [
    "true = alldata[['HMTruth']].values.tolist()\n",
    "iqrhm = alldata[['IQRHM']].values.tolist()\n",
    "lof_pred = alldata[['LOF']].values.tolist()\n",
    "knn_pred = alldata[['KNN']].values.tolist()\n",
    "mcd_pred = alldata[['MCD']].values.tolist()\n",
    "iforest_pred = alldata[['IForest']].values.tolist()\n",
    "pca_pred = alldata[['PCA']].values.tolist()\n",
    "abod_pred = alldata[['ABOD']].values.tolist()\n",
    "\n",
    "# Print the accuracy of list lof_pred to list true\n",
    "print(\"1.5 IQRHM Accuracy:\", sum(1 for x,y in zip(iqrhm,true) if x == y) / len(true))\n",
    "print(\"LOF Accuracy:\", sum(1 for x,y in zip(lof_pred,true) if x == y) / len(true))\n",
    "print(\"KNN Accuracy:\", sum(1 for x,y in zip(knn_pred,true) if x == y) / len(true))\n",
    "print(\"MCD Accuracy:\", sum(1 for x,y in zip(mcd_pred,true) if x == y) / len(true))\n",
    "print(\"IForest Accuracy:\", sum(1 for x,y in zip(iforest_pred,true) if x == y) / len(true))\n",
    "print(\"PCA Accuracy:\", sum(1 for x,y in zip(pca_pred,true) if x == y) / len(true))\n",
    "print(\"ABOD Accuracy:\", sum(1 for x,y in zip(abod_pred,true) if x == y) / len(true))\n",
    "print(\"Blind Accuracy:\", sum(1 for x,y in zip(list(np.zeros(len(true))),true) if x == y) / len(true))"
   ],
   "metadata": {
    "collapsed": false
   }
  },
  {
   "cell_type": "code",
   "execution_count": 88,
   "outputs": [],
   "source": [
    "# Clear the figure\n",
    "plt.clf()\n",
    "%matplotlib inline\n",
    "\n",
    "# For a random RepID, plot the N2OFlux as a scatterplot for each outlier detection method using the scores as the color\n",
    "rep_id = np.random.choice(rep_ids)\n",
    "flux = alldata[alldata['RepID'] == rep_id][['N2OFlux']].values.tolist()\n",
    "exp_day = np.arange(len(flux))\n",
    "\n",
    "# MCD\n",
    "mcd_scores = alldata[alldata['RepID'] == rep_id][['MCD_scores']].values.tolist()\n",
    "plt.scatter(exp_day, flux, c=mcd_scores, cmap='viridis')\n",
    "plt.title('MCD')"
   ],
   "metadata": {
    "collapsed": false
   }
  },
  {
   "cell_type": "code",
   "execution_count": 87,
   "outputs": [],
   "source": [
    "print('hi')"
   ],
   "metadata": {
    "collapsed": false
   }
  },
  {
   "cell_type": "code",
   "execution_count": null,
   "outputs": [],
   "source": [],
   "metadata": {
    "collapsed": false
   }
  }
 ],
 "metadata": {
  "kernelspec": {
   "display_name": "time",
   "language": "python",
   "name": "time"
  },
  "language_info": {
   "codemirror_mode": {
    "name": "ipython",
    "version": 3
   },
   "file_extension": ".py",
   "mimetype": "text/x-python",
   "name": "python",
   "nbconvert_exporter": "python",
   "pygments_lexer": "ipython3",
   "version": "3.9.12"
  }
 },
 "nbformat": 4,
 "nbformat_minor": 5
}
