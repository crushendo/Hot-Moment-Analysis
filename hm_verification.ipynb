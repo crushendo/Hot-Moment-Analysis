{
 "cells": [
  {
   "cell_type": "code",
   "execution_count": 1,
   "metadata": {
    "collapsed": true,
    "ExecuteTime": {
     "end_time": "2023-07-20T16:06:16.372390441Z",
     "start_time": "2023-07-20T16:06:16.228688299Z"
    }
   },
   "outputs": [],
   "source": [
    "import pandas as pd\n",
    "import numpy as np\n",
    "import matplotlib.pyplot as plt\n",
    "import mysql.connector"
   ]
  },
  {
   "cell_type": "code",
   "execution_count": 2,
   "outputs": [
    {
     "name": "stderr",
     "output_type": "stream",
     "text": [
      "/home/ryan/.virtualenv/time/lib/python3.8/site-packages/pandas/io/sql.py:761: UserWarning: pandas only support SQLAlchemy connectable(engine/connection) ordatabase string URI or sqlite3 DBAPI2 connectionother DBAPI2 objects are not tested, please consider using SQLAlchemy\n",
      "  warnings.warn(\n"
     ]
    }
   ],
   "source": [
    "cnx = mysql.connector.connect(user='root', password='Kh18riku!',\n",
    "                                host='127.0.0.1',\n",
    "                                database='global_n2o')\n",
    "cursor = cnx.cursor()\n",
    "\n",
    "query = (\"SELECT * FROM LinearMeasurement\")\n",
    "# Execute the query and fetch all results\n",
    "rowdata = pd.read_sql(query, cnx)\n",
    "# Close the connection\n",
    "cnx.close()\n",
    "\n",
    "# Drop rows where dbdata['HMTruth'] == None or -1\n",
    "rowdata = rowdata.dropna(subset=['HMTruth'])\n",
    "rowdata = rowdata[rowdata['HMTruth'] != -1]\n",
    "rep_ids = rowdata['RepID'].unique()"
   ],
   "metadata": {
    "collapsed": false,
    "ExecuteTime": {
     "end_time": "2023-07-20T16:06:30.335894322Z",
     "start_time": "2023-07-20T16:06:27.215019205Z"
    }
   }
  },
  {
   "cell_type": "code",
   "execution_count": 4,
   "outputs": [],
   "source": [
    "# Create a dataframe with RepIDs and Verification columns\n",
    "verification_df = pd.DataFrame(columns=['RepID', 'Verification'])\n",
    "verification_df['RepID'] = rep_ids\n",
    "verification_df['Verification'] = None\n",
    "%matplotlib tk\n",
    "# Get completed Rep IDs from verification.csv\n",
    "verification_df = pd.read_csv('verification.csv')\n",
    "completed_ids = verification_df[verification_df['Verification'].notnull()]['RepID'].unique()\n",
    "# Select only the RepIDs that have not been completed\n",
    "rep_ids = np.setdiff1d(rep_ids, completed_ids)\n",
    "# Loop through each RepID and create a scatterplot from rowdata\n",
    "for rep_id in rep_ids:\n",
    "    # Clear the current figure\n",
    "    plt.clf()\n",
    "    # Create a dataframe for the current rep_id\n",
    "    rep_df = rowdata[rowdata['RepID'] == rep_id]\n",
    "    # For each row, if N2OFlux is less than 5, set HMTruth to 0\n",
    "    rep_df.loc[rep_df['N2OFlux'] < 5, 'HMTruth'] = 0\n",
    "    # Create a scatterplot of the current rep_id\n",
    "    # For each point, if HMTruth is 1, color it red. if HMTruth is 0, color it blue\n",
    "    plt.scatter(rep_df['Date'], rep_df['N2OFlux'], c=rep_df['HMTruth'].apply(lambda x: 'red' if x == 1 else 'blue'))\n",
    "    plt.xlabel('Date')\n",
    "    plt.ylabel('Flux')\n",
    "    plt.title('RepID: ' + str(rep_id))\n",
    "    # Show the plot in a new popup window\n",
    "    plt.show(block=False)\n",
    "    # Wait for the plot to be closed\n",
    "    plt.waitforbuttonpress()\n",
    "\n",
    "    # Ask user if the data is good. Include a Yes, No, and Quit button option. Include the repid in the question\n",
    "    verification = input('Is the data good for RepID ' + str(rep_id) + '? (y/n/q): ')\n",
    "    # If the data is good, set the verification column to True\n",
    "    if verification == 'y':\n",
    "        verification_df.loc[verification_df['RepID'] == rep_id, 'Verification'] = True\n",
    "    # If the data is bad, set the verification column to False\n",
    "    elif verification == 'n':\n",
    "        verification_df.loc[verification_df['RepID'] == rep_id, 'Verification'] = False\n",
    "    # If the user wants to quit, break out of the loop\n",
    "    elif verification == 'q':\n",
    "        break\n",
    "    # If the user enters something other than y or n, ask again\n",
    "    else:\n",
    "        verification = input(str(rep_id) + ': Please enter y, n, or q: ')\n",
    "        if verification == 'y':\n",
    "            verification_df.loc[verification_df['RepID'] == rep_id, 'Verification'] = True\n",
    "        elif verification == 'n':\n",
    "            verification_df.loc[verification_df['RepID'] == rep_id, 'Verification'] = False\n",
    "        elif verification == 'q':\n",
    "            break\n",
    "    # Close the current figure\n",
    "    plt.close()\n",
    "    # Save the verification_df to a csv file\n",
    "    verification_df.to_csv('verification.csv', index=False)"
   ],
   "metadata": {
    "collapsed": false,
    "ExecuteTime": {
     "end_time": "2023-07-20T17:52:13.719697547Z",
     "start_time": "2023-07-20T16:25:10.162864635Z"
    }
   }
  },
  {
   "cell_type": "code",
   "execution_count": null,
   "outputs": [],
   "source": [],
   "metadata": {
    "collapsed": false
   }
  }
 ],
 "metadata": {
  "kernelspec": {
   "display_name": "Python 3",
   "language": "python",
   "name": "python3"
  },
  "language_info": {
   "codemirror_mode": {
    "name": "ipython",
    "version": 2
   },
   "file_extension": ".py",
   "mimetype": "text/x-python",
   "name": "python",
   "nbconvert_exporter": "python",
   "pygments_lexer": "ipython2",
   "version": "2.7.6"
  }
 },
 "nbformat": 4,
 "nbformat_minor": 0
}
